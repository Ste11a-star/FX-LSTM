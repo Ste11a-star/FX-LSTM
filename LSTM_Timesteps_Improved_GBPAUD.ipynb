{
 "cells": [
  {
   "cell_type": "markdown",
   "id": "e0c9d6a0",
   "metadata": {},
   "source": [
    "## Forward Step LSTM Model\n",
    "\n",
    "This script runs the above model on GBP and AUD using the following parameters:\n",
    "\n",
    "3 LSTM layers of 60 units, 30 epochs and learning rate of 1e-05\n",
    "\n",
    "Each run took 8-10 hours"
   ]
  },
  {
   "cell_type": "code",
   "execution_count": 1,
   "id": "8a8b00fc",
   "metadata": {},
   "outputs": [],
   "source": [
    "import importlib\n",
    "import datetime as dt\n",
    "import numpy as np\n",
    "import pandas as pd\n",
    "from fxcmpy import fxcmpy_tick_data_reader as tdr\n",
    "import matplotlib.pyplot as plt\n",
    "%matplotlib inline\n",
    "import seaborn as sns\n",
    "import talib as ta\n",
    "from talib import RSI, BBANDS\n",
    "import sklearn\n",
    "from sklearn import preprocessing\n",
    "from sklearn.preprocessing import StandardScaler\n",
    "from sklearn.preprocessing import MinMaxScaler"
   ]
  },
  {
   "cell_type": "code",
   "execution_count": 2,
   "id": "13deb93b",
   "metadata": {},
   "outputs": [],
   "source": [
    "import tensorflow as tf\n",
    "from tensorflow import keras\n",
    "from tensorflow.keras import layers\n",
    "from keras.optimizers import Adam\n",
    "from keras.models import Sequential\n",
    "from keras.layers import LSTM\n",
    "from keras.layers import Dropout\n",
    "from keras.layers import Dense\n",
    "from keras.optimizers import Adam"
   ]
  },
  {
   "cell_type": "code",
   "execution_count": 3,
   "id": "1a515d39",
   "metadata": {},
   "outputs": [],
   "source": [
    "gbp = pd.read_csv(f'C:/Users/STELLA/Desktop/Data Science/DS106/GBPUSD_1min.csv')"
   ]
  },
  {
   "cell_type": "code",
   "execution_count": 4,
   "id": "87e91cbc",
   "metadata": {},
   "outputs": [],
   "source": [
    "del gbp['DateTime']\n",
    "gbp['Open'] = (gbp['BidOpen'] + gbp['AskOpen'])/2\n",
    "gbp['Close'] = (gbp['BidClose'] + gbp['AskClose'])/2\n",
    "gbp['High'] = (gbp['BidHigh'] + gbp['AskHigh'])/2\n",
    "gbp['Low'] = (gbp['BidLow'] + gbp['AskLow'])/2\n"
   ]
  },
  {
   "cell_type": "code",
   "execution_count": 5,
   "id": "aa7b2d7a",
   "metadata": {},
   "outputs": [],
   "source": [
    "gbp = gbp.drop({'Unnamed: 0','BidOpen','BidHigh','BidLow','BidClose','AskOpen','AskHigh','AskLow','AskClose'}, axis=1)"
   ]
  },
  {
   "cell_type": "code",
   "execution_count": 6,
   "id": "fb983469",
   "metadata": {},
   "outputs": [
    {
     "data": {
      "text/html": [
       "<div>\n",
       "<style scoped>\n",
       "    .dataframe tbody tr th:only-of-type {\n",
       "        vertical-align: middle;\n",
       "    }\n",
       "\n",
       "    .dataframe tbody tr th {\n",
       "        vertical-align: top;\n",
       "    }\n",
       "\n",
       "    .dataframe thead th {\n",
       "        text-align: right;\n",
       "    }\n",
       "</style>\n",
       "<table border=\"1\" class=\"dataframe\">\n",
       "  <thead>\n",
       "    <tr style=\"text-align: right;\">\n",
       "      <th></th>\n",
       "      <th>Open</th>\n",
       "      <th>Close</th>\n",
       "      <th>High</th>\n",
       "      <th>Low</th>\n",
       "    </tr>\n",
       "  </thead>\n",
       "  <tbody>\n",
       "    <tr>\n",
       "      <th>0</th>\n",
       "      <td>1.308620</td>\n",
       "      <td>1.308640</td>\n",
       "      <td>1.308875</td>\n",
       "      <td>1.308275</td>\n",
       "    </tr>\n",
       "    <tr>\n",
       "      <th>1</th>\n",
       "      <td>1.308640</td>\n",
       "      <td>1.308600</td>\n",
       "      <td>1.308640</td>\n",
       "      <td>1.308600</td>\n",
       "    </tr>\n",
       "    <tr>\n",
       "      <th>2</th>\n",
       "      <td>1.308600</td>\n",
       "      <td>1.308050</td>\n",
       "      <td>1.308600</td>\n",
       "      <td>1.308050</td>\n",
       "    </tr>\n",
       "    <tr>\n",
       "      <th>3</th>\n",
       "      <td>1.308050</td>\n",
       "      <td>1.307910</td>\n",
       "      <td>1.308055</td>\n",
       "      <td>1.307900</td>\n",
       "    </tr>\n",
       "    <tr>\n",
       "      <th>4</th>\n",
       "      <td>1.307910</td>\n",
       "      <td>1.307920</td>\n",
       "      <td>1.308060</td>\n",
       "      <td>1.307845</td>\n",
       "    </tr>\n",
       "    <tr>\n",
       "      <th>...</th>\n",
       "      <td>...</td>\n",
       "      <td>...</td>\n",
       "      <td>...</td>\n",
       "      <td>...</td>\n",
       "    </tr>\n",
       "    <tr>\n",
       "      <th>355601</th>\n",
       "      <td>1.353405</td>\n",
       "      <td>1.353475</td>\n",
       "      <td>1.353575</td>\n",
       "      <td>1.353385</td>\n",
       "    </tr>\n",
       "    <tr>\n",
       "      <th>355602</th>\n",
       "      <td>1.353475</td>\n",
       "      <td>1.353470</td>\n",
       "      <td>1.353520</td>\n",
       "      <td>1.353415</td>\n",
       "    </tr>\n",
       "    <tr>\n",
       "      <th>355603</th>\n",
       "      <td>1.353470</td>\n",
       "      <td>1.353475</td>\n",
       "      <td>1.353540</td>\n",
       "      <td>1.353420</td>\n",
       "    </tr>\n",
       "    <tr>\n",
       "      <th>355604</th>\n",
       "      <td>1.353475</td>\n",
       "      <td>1.353400</td>\n",
       "      <td>1.353490</td>\n",
       "      <td>1.353370</td>\n",
       "    </tr>\n",
       "    <tr>\n",
       "      <th>355605</th>\n",
       "      <td>1.353400</td>\n",
       "      <td>1.353395</td>\n",
       "      <td>1.353430</td>\n",
       "      <td>1.353365</td>\n",
       "    </tr>\n",
       "  </tbody>\n",
       "</table>\n",
       "<p>355606 rows × 4 columns</p>\n",
       "</div>"
      ],
      "text/plain": [
       "            Open     Close      High       Low\n",
       "0       1.308620  1.308640  1.308875  1.308275\n",
       "1       1.308640  1.308600  1.308640  1.308600\n",
       "2       1.308600  1.308050  1.308600  1.308050\n",
       "3       1.308050  1.307910  1.308055  1.307900\n",
       "4       1.307910  1.307920  1.308060  1.307845\n",
       "...          ...       ...       ...       ...\n",
       "355601  1.353405  1.353475  1.353575  1.353385\n",
       "355602  1.353475  1.353470  1.353520  1.353415\n",
       "355603  1.353470  1.353475  1.353540  1.353420\n",
       "355604  1.353475  1.353400  1.353490  1.353370\n",
       "355605  1.353400  1.353395  1.353430  1.353365\n",
       "\n",
       "[355606 rows x 4 columns]"
      ]
     },
     "execution_count": 6,
     "metadata": {},
     "output_type": "execute_result"
    }
   ],
   "source": [
    "gbp"
   ]
  },
  {
   "cell_type": "code",
   "execution_count": 7,
   "id": "34c7d6f4",
   "metadata": {},
   "outputs": [],
   "source": [
    "train_set = gbp.iloc[:, 1:2].values\n",
    "sc = MinMaxScaler(feature_range = (0, 1))\n",
    "training_set_scaled = sc.fit_transform(train_set)\n",
    "X_train = []\n",
    "y_train = []\n",
    "for i in range(60, len(train_set)-1):\n",
    "    X_train.append(training_set_scaled[i-60:i, 0])\n",
    "    y_train.append(training_set_scaled[i, 0]) \n",
    "X_train, y_train = np.array(X_train), np.array(y_train)\n",
    "X_train = np.reshape(X_train, (X_train.shape[0], X_train.shape[1], 1))"
   ]
  },
  {
   "cell_type": "code",
   "execution_count": 8,
   "id": "7f05d6a3",
   "metadata": {},
   "outputs": [],
   "source": [
    "regressor = Sequential()\n",
    "\n",
    "regressor.add(LSTM(units = 60, return_sequences = True, input_shape = (X_train.shape[1], 1)))\n",
    "regressor.add(Dropout(0.2))\n",
    "\n",
    "regressor.add(LSTM(units = 60, return_sequences = True))\n",
    "regressor.add(Dropout(0.2))\n",
    "\n",
    "regressor.add(LSTM(units = 60, return_sequences = True))\n",
    "regressor.add(Dropout(0.2))\n",
    "\n",
    "#Adding the output layer\n",
    "regressor.add(Dense(units = 1))"
   ]
  },
  {
   "cell_type": "code",
   "execution_count": 9,
   "id": "25978210",
   "metadata": {},
   "outputs": [
    {
     "name": "stdout",
     "output_type": "stream",
     "text": [
      "Epoch 1/30\n",
      "11111/11111 [==============================] - 1159s 104ms/step - loss: 0.0283\n",
      "Epoch 2/30\n",
      "11111/11111 [==============================] - 1121s 101ms/step - loss: 0.0028\n",
      "Epoch 3/30\n",
      "11111/11111 [==============================] - 1151s 104ms/step - loss: 0.0014\n",
      "Epoch 4/30\n",
      "11111/11111 [==============================] - 1154s 104ms/step - loss: 0.0010\n",
      "Epoch 5/30\n",
      "11111/11111 [==============================] - 1152s 104ms/step - loss: 7.5294e-04\n",
      "Epoch 6/30\n",
      "11111/11111 [==============================] - 1161s 104ms/step - loss: 5.8225e-04\n",
      "Epoch 7/30\n",
      "11111/11111 [==============================] - 1167s 105ms/step - loss: 4.6629e-04\n",
      "Epoch 8/30\n",
      "11111/11111 [==============================] - 1188s 107ms/step - loss: 3.8847e-04\n",
      "Epoch 9/30\n",
      "11111/11111 [==============================] - 1153s 104ms/step - loss: 3.3719e-04\n",
      "Epoch 10/30\n",
      "11111/11111 [==============================] - 1196s 108ms/step - loss: 3.0184e-04\n",
      "Epoch 11/30\n",
      "11111/11111 [==============================] - 1193s 107ms/step - loss: 2.7747e-04\n",
      "Epoch 12/30\n",
      "11111/11111 [==============================] - 1241s 112ms/step - loss: 2.6046e-04\n",
      "Epoch 13/30\n",
      "11111/11111 [==============================] - 1144s 103ms/step - loss: 2.4837e-04\n",
      "Epoch 14/30\n",
      "11111/11111 [==============================] - 1154s 104ms/step - loss: 2.3976e-04 - loss: 2.39\n",
      "Epoch 15/30\n",
      "11111/11111 [==============================] - 1168s 105ms/step - loss: 2.3418e-04\n",
      "Epoch 16/30\n",
      "11111/11111 [==============================] - 1113s 100ms/step - loss: 2.2932e-04\n",
      "Epoch 17/30\n",
      "11111/11111 [==============================] - 1133s 102ms/step - loss: 2.2662e-04\n",
      "Epoch 18/30\n",
      "11111/11111 [==============================] - 1329s 120ms/step - loss: 2.2359e-04\n",
      "Epoch 19/30\n",
      "11111/11111 [==============================] - 1143s 103ms/step - loss: 2.2167e-04 - los - ETA: 1s - loss:\n",
      "Epoch 20/30\n",
      "11111/11111 [==============================] - 1104s 99ms/step - loss: 2.2000e-04\n",
      "Epoch 21/30\n",
      "11111/11111 [==============================] - 1259s 113ms/step - loss: 2.1861e-04\n",
      "Epoch 22/30\n",
      "11111/11111 [==============================] - 1172s 105ms/step - loss: 2.1751e-04\n",
      "Epoch 23/30\n",
      "11111/11111 [==============================] - 1259s 113ms/step - loss: 2.1612e-04\n",
      "Epoch 24/30\n",
      "11111/11111 [==============================] - 1430s 129ms/step - loss: 2.1533e-04\n",
      "Epoch 25/30\n",
      "11111/11111 [==============================] - 1161s 105ms/step - loss: 2.1419e-04\n",
      "Epoch 26/30\n",
      "11111/11111 [==============================] - 1194s 107ms/step - loss: 2.1352e-04\n",
      "Epoch 27/30\n",
      "11111/11111 [==============================] - 1111s 100ms/step - loss: 2.1298e-04\n",
      "Epoch 28/30\n",
      "11111/11111 [==============================] - 1187s 107ms/step - loss: 2.1196e-04\n",
      "Epoch 29/30\n",
      "11111/11111 [==============================] - 1060s 95ms/step - loss: 2.1161e-04\n",
      "Epoch 30/30\n",
      "11111/11111 [==============================] - 1080s 97ms/step - loss: 2.1117e-04\n"
     ]
    },
    {
     "data": {
      "text/plain": [
       "<tensorflow.python.keras.callbacks.History at 0x22a81b00588>"
      ]
     },
     "execution_count": 9,
     "metadata": {},
     "output_type": "execute_result"
    }
   ],
   "source": [
    "regressor.compile(optimizer = Adam(lr=1e-05), loss = 'mean_squared_error')\n",
    "regressor.fit(X_train, y_train, epochs = 30, batch_size = 32)"
   ]
  },
  {
   "cell_type": "markdown",
   "id": "c7f14408",
   "metadata": {},
   "source": [
    "## Testing the model on new data"
   ]
  },
  {
   "cell_type": "code",
   "execution_count": 11,
   "id": "292e21de",
   "metadata": {},
   "outputs": [
    {
     "name": "stdout",
     "output_type": "stream",
     "text": [
      "https://candledata.fxcorporate.com/m1/GBPUSD/2021/2.csv.gz\n",
      "https://candledata.fxcorporate.com/m1/GBPUSD/2021/3.csv.gz\n",
      "https://candledata.fxcorporate.com/m1/GBPUSD/2021/4.csv.gz\n",
      "https://candledata.fxcorporate.com/m1/GBPUSD/2021/5.csv.gz\n",
      "https://candledata.fxcorporate.com/m1/GBPUSD/2021/6.csv.gz\n",
      "                     DateTime  BidOpen  BidHigh   BidLow  BidClose  AskOpen  \\\n",
      "0     01/10/2021 22:18:00.000  1.35549  1.35633  1.35549   1.35612  1.35725   \n",
      "1     01/10/2021 22:19:00.000  1.35612  1.35636  1.35612   1.35636  1.35797   \n",
      "2     01/10/2021 22:20:00.000  1.35636  1.35637  1.35634   1.35637  1.35797   \n",
      "3     01/10/2021 22:21:00.000  1.35637  1.35667  1.35605   1.35667  1.35797   \n",
      "4     01/10/2021 22:22:00.000  1.35667  1.35667  1.35642   1.35667  1.35773   \n",
      "...                       ...      ...      ...      ...       ...      ...   \n",
      "7181  02/12/2021 21:55:00.000  1.38528  1.38532  1.38509   1.38523  1.38538   \n",
      "7182  02/12/2021 21:56:00.000  1.38523  1.38532  1.38504   1.38510  1.38533   \n",
      "7183  02/12/2021 21:57:00.000  1.38510  1.38516  1.38506   1.38516  1.38533   \n",
      "7184  02/12/2021 21:58:00.000  1.38516  1.38530  1.38516   1.38529  1.38546   \n",
      "7185  02/12/2021 21:59:00.000  1.38529  1.38530  1.38450   1.38450  1.38558   \n",
      "\n",
      "      AskHigh   AskLow  AskClose  \n",
      "0     1.35797  1.35725   1.35797  \n",
      "1     1.35797  1.35797   1.35797  \n",
      "2     1.35797  1.35797   1.35797  \n",
      "3     1.35797  1.35768   1.35773  \n",
      "4     1.35773  1.35771   1.35771  \n",
      "...       ...      ...       ...  \n",
      "7181  1.38539  1.38519   1.38533  \n",
      "7182  1.38547  1.38524   1.38533  \n",
      "7183  1.38546  1.38533   1.38546  \n",
      "7184  1.38561  1.38545   1.38558  \n",
      "7185  1.38633  1.38556   1.38633  \n",
      "\n",
      "[35825 rows x 9 columns]\n"
     ]
    }
   ],
   "source": [
    "url = 'https://candledata.fxcorporate.com/'##This is the base url\n",
    "periodicity='m1' ##periodicity, can be m1, H1, D1\n",
    "url_suffix = '.csv.gz' ##Extension of the file name\n",
    "symbol = 'GBPUSD' ##symbol we want to get tick data for\n",
    "##Available Currencies \n",
    "##AUDCAD,AUDCHF,AUDJPY, AUDNZD,CADCHF,EURAUD,EURCHF,EURGBP\n",
    "##EURJPY,EURUSD,GBPCHF,GBPJPY,GBPNZD,GBPUSD,GBPCHF,GBPJPY\n",
    "##GBPNZD,NZDCAD,NZDCHF.NZDJPY,NZDUSD,USDCAD,USDCHF,USDJPY\n",
    "\n",
    "\n",
    "##The candle files are stored in compressed csv.  The storage structure comes as {periodicity}/{symbol}/{year}/{week_of_year}.csv.gz\n",
    "##The first week of the year will be 1.csv.gz where the \n",
    "##last week might be 52 or 53.  That will depend on the year.\n",
    "##Once we have the week of the year we will be able to pull the correct file with the data that is needed.\n",
    "start_dt =  dt.date(2021,1,15)##random start date\n",
    "end_dt = dt.date(2021,2,15)##random end date\n",
    "\n",
    "\n",
    "start_wk = start_dt.isocalendar()[1]##find the week of the year for the start  \n",
    "end_wk = end_dt.isocalendar()[1] ##find the week of the year for the end \n",
    "year = str(start_dt.isocalendar()[0]) ##pull out the year of the start\n",
    "\n",
    "###The URL is a combination of the currency, periodicity,  year, and week of the year.\n",
    "###Example URL https://candledata.fxcorporate.com/m1/EURUSD/2017/29.csv.gz\n",
    "###The example URL should be the first URL of this example\n",
    "data=pd.DataFrame()\n",
    "##This will loop through the weeks needed, create the correct URL and print out the lenght of the file.\n",
    "for i in range(start_wk, end_wk ):\n",
    "    url_data = url + periodicity + '/' + symbol + '/' + year + '/' + str(i) + url_suffix\n",
    "    print(url_data)\n",
    "    tempdata = pd.read_csv(url_data, compression='gzip')\n",
    "    data =pd.concat([data, tempdata])\n",
    "\n",
    "print(data)\n"
   ]
  },
  {
   "cell_type": "code",
   "execution_count": 12,
   "id": "3c4e95a6",
   "metadata": {},
   "outputs": [],
   "source": [
    "gbp_test = data\n",
    "gbp_test.to_csv(f'C:/Users/STELLA/Desktop/Data Science/DS106/GBPUSD_test.csv')"
   ]
  },
  {
   "cell_type": "code",
   "execution_count": 13,
   "id": "47c35cdd",
   "metadata": {},
   "outputs": [],
   "source": [
    "del gbp_test['DateTime']\n",
    "gbp_test['Open'] = (gbp_test['BidOpen'] + gbp_test['AskOpen'])/2\n",
    "gbp_test['Close'] = (gbp_test['BidClose'] + gbp_test['AskClose'])/2\n",
    "gbp_test['High'] = (gbp_test['BidHigh'] + gbp_test['AskHigh'])/2\n",
    "gbp_test['Low'] = (gbp_test['BidLow'] + gbp_test['AskLow'])/2"
   ]
  },
  {
   "cell_type": "code",
   "execution_count": 16,
   "id": "5aba02ee",
   "metadata": {},
   "outputs": [],
   "source": [
    "gbp_testdata = gbp_test.iloc[:, 1:2].values\n",
    "dataset_total = pd.concat((gbp['Open'], gbp_test['Open']), axis = 0)\n",
    "inputs = dataset_total[len(dataset_total) - len(gbp_test) - 60:].values\n"
   ]
  },
  {
   "cell_type": "code",
   "execution_count": 17,
   "id": "79e2fd96",
   "metadata": {},
   "outputs": [
    {
     "data": {
      "text/plain": [
       "array([1.353815, 1.35376 , 1.353775, ..., 1.385215, 1.38531 , 1.385435])"
      ]
     },
     "execution_count": 17,
     "metadata": {},
     "output_type": "execute_result"
    }
   ],
   "source": [
    "inputs"
   ]
  },
  {
   "cell_type": "code",
   "execution_count": 18,
   "id": "e3a42647",
   "metadata": {},
   "outputs": [],
   "source": [
    "inputs = inputs.reshape(-1,1)\n",
    "inputs = sc.transform(inputs)\n",
    "X_test = []\n",
    "for i in range(60, len(gbp_testdata)-1):\n",
    "    X_test.append(inputs[i-60:i, 0])\n",
    "X_test = np.array(X_test)\n",
    "X_test = np.reshape(X_test, (X_test.shape[0], X_test.shape[1], 1))"
   ]
  },
  {
   "cell_type": "code",
   "execution_count": 19,
   "id": "8daf739b",
   "metadata": {},
   "outputs": [],
   "source": [
    "predicted_price= regressor.predict(X_test)\n"
   ]
  },
  {
   "cell_type": "code",
   "execution_count": 20,
   "id": "2099c9bb",
   "metadata": {},
   "outputs": [
    {
     "data": {
      "text/plain": [
       "(35764, 60)"
      ]
     },
     "execution_count": 20,
     "metadata": {},
     "output_type": "execute_result"
    }
   ],
   "source": [
    "x = predicted_price.reshape(predicted_price.shape[0], 60)\n",
    "x.shape"
   ]
  },
  {
   "cell_type": "code",
   "execution_count": 21,
   "id": "73ba5370",
   "metadata": {},
   "outputs": [
    {
     "data": {
      "text/plain": [
       "array([[1.3511617, 1.3514742, 1.3523421, ..., 1.352224 , 1.3522295,\n",
       "        1.3521764],\n",
       "       [1.3511108, 1.3514832, 1.3523569, ..., 1.3522294, 1.3521763,\n",
       "        1.3542805],\n",
       "       [1.3511246, 1.3515013, 1.3523372, ..., 1.3521762, 1.3542804,\n",
       "        1.3550905],\n",
       "       ...,\n",
       "       [1.3791628, 1.3793302, 1.3817632, ..., 1.382652 , 1.3826656,\n",
       "        1.3826615],\n",
       "       [1.3791715, 1.3794688, 1.3816247, ..., 1.3826652, 1.3826612,\n",
       "        1.3826653],\n",
       "       [1.3793192, 1.3792937, 1.3815839, ..., 1.3826606, 1.3826649,\n",
       "        1.3826127]], dtype=float32)"
      ]
     },
     "execution_count": 21,
     "metadata": {},
     "output_type": "execute_result"
    }
   ],
   "source": [
    "\n",
    "b = sc.inverse_transform(x)\n",
    "b"
   ]
  },
  {
   "cell_type": "code",
   "execution_count": 22,
   "id": "64c45d94",
   "metadata": {},
   "outputs": [
    {
     "data": {
      "text/plain": [
       "(35825, 1)"
      ]
     },
     "execution_count": 22,
     "metadata": {},
     "output_type": "execute_result"
    }
   ],
   "source": [
    "gbp_testdata.shape"
   ]
  },
  {
   "cell_type": "code",
   "execution_count": 23,
   "id": "e520a400",
   "metadata": {},
   "outputs": [
    {
     "data": {
      "image/png": "[encoded data removed]",
      "text/plain": [
       "<Figure size 1440x720 with 1 Axes>"
      ]
     },
     "metadata": {
      "needs_background": "light"
     },
     "output_type": "display_data"
    }
   ],
   "source": [
    "plt.figure(figsize=(20,10))\n",
    "plt.plot(gbp_testdata[5000:5300], color = 'green', label = 'GBPUSD')\n",
    "plt.plot(b[5000:5300, 33:34], color = 'red', label = 'Predicted GBPUSD')\n",
    "plt.title('GBPUSD Prediction (Enhanced) ')\n",
    "plt.xlabel('Trading Period 1 minute')\n",
    "plt.ylabel('GBPUSD')\n",
    "plt.legend()\n",
    "plt.show()"
   ]
  },
  {
   "cell_type": "markdown",
   "id": "e3651688",
   "metadata": {},
   "source": [
    "## AUD MODEL"
   ]
  },
  {
   "cell_type": "code",
   "execution_count": 24,
   "id": "4db9d236",
   "metadata": {},
   "outputs": [],
   "source": [
    "aud = pd.read_csv(f'C:/Users/STELLA/Desktop/Data Science/DS106/AUDUSD_1min.csv')"
   ]
  },
  {
   "cell_type": "code",
   "execution_count": 25,
   "id": "61804bb6",
   "metadata": {},
   "outputs": [],
   "source": [
    "del aud['DateTime']\n",
    "aud['Open'] = (aud['BidOpen'] + aud['AskOpen'])/2\n",
    "aud['Close'] = (aud['BidClose'] + aud['AskClose'])/2\n",
    "aud['High'] = (aud['BidHigh'] + aud['AskHigh'])/2\n",
    "aud['Low'] = (aud['BidLow'] + aud['AskLow'])/2\n"
   ]
  },
  {
   "cell_type": "code",
   "execution_count": 26,
   "id": "7dce12a9",
   "metadata": {},
   "outputs": [],
   "source": [
    "aud = aud.drop({'Unnamed: 0','BidOpen','BidHigh','BidLow','BidClose','AskOpen','AskHigh','AskLow','AskClose'}, axis=1)"
   ]
  },
  {
   "cell_type": "code",
   "execution_count": 27,
   "id": "40a07a9b",
   "metadata": {},
   "outputs": [
    {
     "data": {
      "text/html": [
       "<div>\n",
       "<style scoped>\n",
       "    .dataframe tbody tr th:only-of-type {\n",
       "        vertical-align: middle;\n",
       "    }\n",
       "\n",
       "    .dataframe tbody tr th {\n",
       "        vertical-align: top;\n",
       "    }\n",
       "\n",
       "    .dataframe thead th {\n",
       "        text-align: right;\n",
       "    }\n",
       "</style>\n",
       "<table border=\"1\" class=\"dataframe\">\n",
       "  <thead>\n",
       "    <tr style=\"text-align: right;\">\n",
       "      <th></th>\n",
       "      <th>Open</th>\n",
       "      <th>Close</th>\n",
       "      <th>High</th>\n",
       "      <th>Low</th>\n",
       "    </tr>\n",
       "  </thead>\n",
       "  <tbody>\n",
       "    <tr>\n",
       "      <th>0</th>\n",
       "      <td>0.694205</td>\n",
       "      <td>0.694200</td>\n",
       "      <td>0.694205</td>\n",
       "      <td>0.694200</td>\n",
       "    </tr>\n",
       "    <tr>\n",
       "      <th>1</th>\n",
       "      <td>0.694200</td>\n",
       "      <td>0.694205</td>\n",
       "      <td>0.694320</td>\n",
       "      <td>0.694080</td>\n",
       "    </tr>\n",
       "    <tr>\n",
       "      <th>2</th>\n",
       "      <td>0.694205</td>\n",
       "      <td>0.694170</td>\n",
       "      <td>0.694370</td>\n",
       "      <td>0.693995</td>\n",
       "    </tr>\n",
       "    <tr>\n",
       "      <th>3</th>\n",
       "      <td>0.694170</td>\n",
       "      <td>0.694205</td>\n",
       "      <td>0.694260</td>\n",
       "      <td>0.694165</td>\n",
       "    </tr>\n",
       "    <tr>\n",
       "      <th>4</th>\n",
       "      <td>0.694205</td>\n",
       "      <td>0.694155</td>\n",
       "      <td>0.694250</td>\n",
       "      <td>0.694080</td>\n",
       "    </tr>\n",
       "    <tr>\n",
       "      <th>...</th>\n",
       "      <td>...</td>\n",
       "      <td>...</td>\n",
       "      <td>...</td>\n",
       "      <td>...</td>\n",
       "    </tr>\n",
       "    <tr>\n",
       "      <th>355819</th>\n",
       "      <td>0.759350</td>\n",
       "      <td>0.759370</td>\n",
       "      <td>0.759375</td>\n",
       "      <td>0.759345</td>\n",
       "    </tr>\n",
       "    <tr>\n",
       "      <th>355820</th>\n",
       "      <td>0.759370</td>\n",
       "      <td>0.759420</td>\n",
       "      <td>0.759445</td>\n",
       "      <td>0.759370</td>\n",
       "    </tr>\n",
       "    <tr>\n",
       "      <th>355821</th>\n",
       "      <td>0.759420</td>\n",
       "      <td>0.759435</td>\n",
       "      <td>0.759465</td>\n",
       "      <td>0.759410</td>\n",
       "    </tr>\n",
       "    <tr>\n",
       "      <th>355822</th>\n",
       "      <td>0.759435</td>\n",
       "      <td>0.759415</td>\n",
       "      <td>0.759465</td>\n",
       "      <td>0.759405</td>\n",
       "    </tr>\n",
       "    <tr>\n",
       "      <th>355823</th>\n",
       "      <td>0.759415</td>\n",
       "      <td>0.759520</td>\n",
       "      <td>0.759520</td>\n",
       "      <td>0.759400</td>\n",
       "    </tr>\n",
       "  </tbody>\n",
       "</table>\n",
       "<p>355824 rows × 4 columns</p>\n",
       "</div>"
      ],
      "text/plain": [
       "            Open     Close      High       Low\n",
       "0       0.694205  0.694200  0.694205  0.694200\n",
       "1       0.694200  0.694205  0.694320  0.694080\n",
       "2       0.694205  0.694170  0.694370  0.693995\n",
       "3       0.694170  0.694205  0.694260  0.694165\n",
       "4       0.694205  0.694155  0.694250  0.694080\n",
       "...          ...       ...       ...       ...\n",
       "355819  0.759350  0.759370  0.759375  0.759345\n",
       "355820  0.759370  0.759420  0.759445  0.759370\n",
       "355821  0.759420  0.759435  0.759465  0.759410\n",
       "355822  0.759435  0.759415  0.759465  0.759405\n",
       "355823  0.759415  0.759520  0.759520  0.759400\n",
       "\n",
       "[355824 rows x 4 columns]"
      ]
     },
     "execution_count": 27,
     "metadata": {},
     "output_type": "execute_result"
    }
   ],
   "source": [
    "aud"
   ]
  },
  {
   "cell_type": "code",
   "execution_count": 28,
   "id": "8ad662bc",
   "metadata": {},
   "outputs": [],
   "source": [
    "train_set = aud.iloc[:, 1:2].values\n",
    "sc = MinMaxScaler(feature_range = (0, 1))\n",
    "training_set_scaled = sc.fit_transform(train_set)\n",
    "X_train = []\n",
    "y_train = []\n",
    "for i in range(60, len(train_set)-1):\n",
    "    X_train.append(training_set_scaled[i-60:i, 0])\n",
    "    y_train.append(training_set_scaled[i, 0]) \n",
    "X_train, y_train = np.array(X_train), np.array(y_train)\n",
    "X_train = np.reshape(X_train, (X_train.shape[0], X_train.shape[1], 1))"
   ]
  },
  {
   "cell_type": "code",
   "execution_count": 29,
   "id": "f59fd1d6",
   "metadata": {},
   "outputs": [],
   "source": [
    "regressor = Sequential()\n",
    "\n",
    "regressor.add(LSTM(units = 60, return_sequences = True, input_shape = (X_train.shape[1], 1)))\n",
    "regressor.add(Dropout(0.2))\n",
    "\n",
    "regressor.add(LSTM(units = 60, return_sequences = True))\n",
    "regressor.add(Dropout(0.2))\n",
    "\n",
    "regressor.add(LSTM(units = 60, return_sequences = True))\n",
    "regressor.add(Dropout(0.2))\n",
    "\n",
    "#Adding the output layer\n",
    "regressor.add(Dense(units = 1))"
   ]
  },
  {
   "cell_type": "code",
   "execution_count": 30,
   "id": "794dc495",
   "metadata": {},
   "outputs": [
    {
     "name": "stdout",
     "output_type": "stream",
     "text": [
      "Epoch 1/30\n",
      "11118/11118 [==============================] - 676s 61ms/step - loss: 0.0344\n",
      "Epoch 2/30\n",
      "11118/11118 [==============================] - 681s 61ms/step - loss: 0.0030\n",
      "Epoch 3/30\n",
      "11118/11118 [==============================] - 681s 61ms/step - loss: 0.0014\n",
      "Epoch 4/30\n",
      "11118/11118 [==============================] - 682s 61ms/step - loss: 9.8768e-04\n",
      "Epoch 5/30\n",
      "11118/11118 [==============================] - 681s 61ms/step - loss: 7.2293e-04\n",
      "Epoch 6/30\n",
      "11118/11118 [==============================] - 682s 61ms/step - loss: 5.4689e-04\n",
      "Epoch 7/30\n",
      "11118/11118 [==============================] - 682s 61ms/step - loss: 4.3082e-04\n",
      "Epoch 8/30\n",
      "11118/11118 [==============================] - 683s 61ms/step - loss: 3.5603e-04\n",
      "Epoch 9/30\n",
      "11118/11118 [==============================] - 683s 61ms/step - loss: 3.0823e-04\n",
      "Epoch 10/30\n",
      "11118/11118 [==============================] - 684s 62ms/step - loss: 2.7763e-04\n",
      "Epoch 11/30\n",
      "11118/11118 [==============================] - 690s 62ms/step - loss: 2.5865e-04\n",
      "Epoch 12/30\n",
      "11118/11118 [==============================] - 694s 62ms/step - loss: 2.4664e-04\n",
      "Epoch 13/30\n",
      "11118/11118 [==============================] - 691s 62ms/step - loss: 2.3854e-04\n",
      "Epoch 14/30\n",
      "11118/11118 [==============================] - 690s 62ms/step - loss: 2.3326e-04\n",
      "Epoch 15/30\n",
      "11118/11118 [==============================] - 691s 62ms/step - loss: 2.2907e-04\n",
      "Epoch 16/30\n",
      "11118/11118 [==============================] - 690s 62ms/step - loss: 2.2617e-04\n",
      "Epoch 17/30\n",
      "11118/11118 [==============================] - 753s 68ms/step - loss: 2.2416e-04\n",
      "Epoch 18/30\n",
      "11118/11118 [==============================] - 820s 74ms/step - loss: 2.2206e-040s - loss: \n",
      "Epoch 19/30\n",
      "11118/11118 [==============================] - 808s 73ms/step - loss: 2.2072e-041s \n",
      "Epoch 20/30\n",
      "11118/11118 [==============================] - 713s 64ms/step - loss: 2.1909e-04\n",
      "Epoch 21/30\n",
      "11118/11118 [==============================] - 692s 62ms/step - loss: 2.1802e-04\n",
      "Epoch 22/30\n",
      "11118/11118 [==============================] - 692s 62ms/step - loss: 2.1707e-04\n",
      "Epoch 23/30\n",
      "11118/11118 [==============================] - 693s 62ms/step - loss: 2.1608e-04\n",
      "Epoch 24/30\n",
      "11118/11118 [==============================] - 704s 63ms/step - loss: 2.1550e-04\n",
      "Epoch 25/30\n",
      "11118/11118 [==============================] - 807s 73ms/step - loss: 2.1451e-04\n",
      "Epoch 26/30\n",
      "11118/11118 [==============================] - 784s 71ms/step - loss: 2.1402e-04\n",
      "Epoch 27/30\n",
      "11118/11118 [==============================] - 1093s 98ms/step - loss: 2.1314e-04\n",
      "Epoch 28/30\n",
      "11118/11118 [==============================] - 1203s 108ms/step - loss: 2.1295e-04\n",
      "Epoch 29/30\n",
      "11118/11118 [==============================] - 1209s 109ms/step - loss: 2.1222e-04\n",
      "Epoch 30/30\n",
      "11118/11118 [==============================] - 1172s 105ms/step - loss: 2.1204e-04\n"
     ]
    },
    {
     "data": {
      "text/plain": [
       "<tensorflow.python.keras.callbacks.History at 0x22a8642d588>"
      ]
     },
     "execution_count": 30,
     "metadata": {},
     "output_type": "execute_result"
    }
   ],
   "source": [
    "regressor.compile(optimizer = Adam(lr=1e-05), loss = 'mean_squared_error')\n",
    "regressor.fit(X_train, y_train, epochs = 30, batch_size = 32)"
   ]
  },
  {
   "cell_type": "markdown",
   "id": "2a3c3ef1",
   "metadata": {},
   "source": [
    "## Testing the model on new data"
   ]
  },
  {
   "cell_type": "code",
   "execution_count": 31,
   "id": "ce358624",
   "metadata": {},
   "outputs": [
    {
     "name": "stdout",
     "output_type": "stream",
     "text": [
      "https://candledata.fxcorporate.com/m1/AUDUSD/2021/2.csv.gz\n",
      "https://candledata.fxcorporate.com/m1/AUDUSD/2021/3.csv.gz\n",
      "https://candledata.fxcorporate.com/m1/AUDUSD/2021/4.csv.gz\n",
      "https://candledata.fxcorporate.com/m1/AUDUSD/2021/5.csv.gz\n",
      "https://candledata.fxcorporate.com/m1/AUDUSD/2021/6.csv.gz\n",
      "                     DateTime  BidOpen  BidHigh   BidLow  BidClose  AskOpen  \\\n",
      "0     01/10/2021 22:01:00.000  0.77522  0.77522  0.77522   0.77522  0.77598   \n",
      "1     01/10/2021 22:02:00.000  0.77522  0.77529  0.77522   0.77522  0.77581   \n",
      "2     01/10/2021 22:03:00.000  0.77522  0.77544  0.77522   0.77522  0.77581   \n",
      "3     01/10/2021 22:04:00.000  0.77522  0.77546  0.77522   0.77546  0.77581   \n",
      "4     01/10/2021 22:05:00.000  0.77546  0.77548  0.77522   0.77538  0.77581   \n",
      "...                       ...      ...      ...      ...       ...      ...   \n",
      "7156  02/12/2021 21:54:00.000  0.77613  0.77616  0.77608   0.77610  0.77616   \n",
      "7157  02/12/2021 21:55:00.000  0.77610  0.77610  0.77592   0.77597  0.77616   \n",
      "7158  02/12/2021 21:56:00.000  0.77597  0.77605  0.77568   0.77598  0.77605   \n",
      "7159  02/12/2021 21:57:00.000  0.77598  0.77603  0.77594   0.77594  0.77616   \n",
      "7160  02/12/2021 21:58:00.000  0.77594  0.77600  0.77594   0.77600  0.77622   \n",
      "\n",
      "      AskHigh   AskLow  AskClose  \n",
      "0     0.77598  0.77581   0.77581  \n",
      "1     0.77581  0.77581   0.77581  \n",
      "2     0.77581  0.77580   0.77581  \n",
      "3     0.77581  0.77574   0.77581  \n",
      "4     0.77583  0.77571   0.77571  \n",
      "...       ...      ...       ...  \n",
      "7156  0.77618  0.77613   0.77616  \n",
      "7157  0.77616  0.77599   0.77605  \n",
      "7158  0.77628  0.77605   0.77616  \n",
      "7159  0.77624  0.77612   0.77622  \n",
      "7160  0.77627  0.77622   0.77625  \n",
      "\n",
      "[35875 rows x 9 columns]\n"
     ]
    }
   ],
   "source": [
    "url = 'https://candledata.fxcorporate.com/'##This is the base url\n",
    "periodicity='m1' ##periodicity, can be m1, H1, D1\n",
    "url_suffix = '.csv.gz' ##Extension of the file name\n",
    "symbol = 'AUDUSD' ##symbol we want to get tick data for\n",
    "##Available Currencies \n",
    "##AUDCAD,AUDCHF,AUDJPY, AUDNZD,CADCHF,EURAUD,EURCHF,EURGBP\n",
    "##EURJPY,EURUSD,GBPCHF,GBPJPY,GBPNZD,GBPUSD,GBPCHF,GBPJPY\n",
    "##GBPNZD,NZDCAD,NZDCHF.NZDJPY,NZDUSD,USDCAD,USDCHF,USDJPY\n",
    "\n",
    "\n",
    "##The candle files are stored in compressed csv.  The storage structure comes as {periodicity}/{symbol}/{year}/{week_of_year}.csv.gz\n",
    "##The first week of the year will be 1.csv.gz where the \n",
    "##last week might be 52 or 53.  That will depend on the year.\n",
    "##Once we have the week of the year we will be able to pull the correct file with the data that is needed.\n",
    "start_dt =  dt.date(2021,1,15)##random start date\n",
    "end_dt = dt.date(2021,2,15)##random end date\n",
    "\n",
    "\n",
    "start_wk = start_dt.isocalendar()[1]##find the week of the year for the start  \n",
    "end_wk = end_dt.isocalendar()[1] ##find the week of the year for the end \n",
    "year = str(start_dt.isocalendar()[0]) ##pull out the year of the start\n",
    "\n",
    "###The URL is a combination of the currency, periodicity,  year, and week of the year.\n",
    "###Example URL https://candledata.fxcorporate.com/m1/EURUSD/2017/29.csv.gz\n",
    "###The example URL should be the first URL of this example\n",
    "data=pd.DataFrame()\n",
    "##This will loop through the weeks needed, create the correct URL and print out the lenght of the file.\n",
    "for i in range(start_wk, end_wk ):\n",
    "    url_data = url + periodicity + '/' + symbol + '/' + year + '/' + str(i) + url_suffix\n",
    "    print(url_data)\n",
    "    tempdata = pd.read_csv(url_data, compression='gzip')\n",
    "    data =pd.concat([data, tempdata])\n",
    "\n",
    "print(data)\n"
   ]
  },
  {
   "cell_type": "code",
   "execution_count": 32,
   "id": "b62e62a1",
   "metadata": {},
   "outputs": [],
   "source": [
    "aud_test = data\n",
    "aud_test.to_csv(f'C:/Users/STELLA/Desktop/Data Science/DS106/AUDUSD_test.csv')"
   ]
  },
  {
   "cell_type": "code",
   "execution_count": 33,
   "id": "45fdb428",
   "metadata": {},
   "outputs": [],
   "source": [
    "del aud_test['DateTime']\n",
    "aud_test['Open'] = (aud_test['BidOpen'] + aud_test['AskOpen'])/2\n",
    "aud_test['Close'] = (aud_test['BidClose'] + aud_test['AskClose'])/2\n",
    "aud_test['High'] = (aud_test['BidHigh'] + aud_test['AskHigh'])/2\n",
    "aud_test['Low'] = (aud_test['BidLow'] + aud_test['AskLow'])/2"
   ]
  },
  {
   "cell_type": "code",
   "execution_count": 35,
   "id": "8030cf3b",
   "metadata": {},
   "outputs": [],
   "source": [
    "aud_testdata = aud_test.iloc[:, 1:2].values\n",
    "dataset_total = pd.concat((aud['Open'], aud_test['Open']), axis = 0)\n",
    "inputs = dataset_total[len(dataset_total) - len(aud_test) - 60:].values\n"
   ]
  },
  {
   "cell_type": "code",
   "execution_count": 36,
   "id": "49198d28",
   "metadata": {},
   "outputs": [],
   "source": [
    "inputs = inputs.reshape(-1,1)\n",
    "inputs = sc.transform(inputs)\n",
    "X_test = []\n",
    "for i in range(60, len(aud_testdata)-1):\n",
    "    X_test.append(inputs[i-60:i, 0])\n",
    "X_test = np.array(X_test)\n",
    "X_test = np.reshape(X_test, (X_test.shape[0], X_test.shape[1], 1))"
   ]
  },
  {
   "cell_type": "code",
   "execution_count": 38,
   "id": "7f1e2c6a",
   "metadata": {},
   "outputs": [],
   "source": [
    "predicted_price= regressor.predict(X_test)\n"
   ]
  },
  {
   "cell_type": "code",
   "execution_count": 39,
   "id": "0a8858b0",
   "metadata": {},
   "outputs": [
    {
     "data": {
      "text/plain": [
       "(35814, 60)"
      ]
     },
     "execution_count": 39,
     "metadata": {},
     "output_type": "execute_result"
    }
   ],
   "source": [
    "c = predicted_price.reshape(predicted_price.shape[0], 60)\n",
    "c.shape"
   ]
  },
  {
   "cell_type": "code",
   "execution_count": 40,
   "id": "2b556b75",
   "metadata": {},
   "outputs": [
    {
     "data": {
      "text/plain": [
       "array([[0.7578506 , 0.75845265, 0.7588593 , ..., 0.7584721 , 0.75848943,\n",
       "        0.7584774 ],\n",
       "       [0.7578506 , 0.75838673, 0.7587511 , ..., 0.7584893 , 0.7584773 ,\n",
       "        0.7706497 ],\n",
       "       [0.75778055, 0.758272  , 0.7587534 , ..., 0.75847715, 0.77064955,\n",
       "        0.7723666 ],\n",
       "       ...,\n",
       "       [0.77224696, 0.77291656, 0.7737096 , ..., 0.7740916 , 0.7741495 ,\n",
       "        0.77416986],\n",
       "       [0.7721515 , 0.77290213, 0.7737267 , ..., 0.77414954, 0.7741699 ,\n",
       "        0.77414167],\n",
       "       [0.77214247, 0.7729276 , 0.77368927, ..., 0.77417004, 0.7741417 ,\n",
       "        0.77412766]], dtype=float32)"
      ]
     },
     "execution_count": 40,
     "metadata": {},
     "output_type": "execute_result"
    }
   ],
   "source": [
    "\n",
    "aud_predict = sc.inverse_transform(c)\n",
    "aud_predict"
   ]
  },
  {
   "cell_type": "code",
   "execution_count": 41,
   "id": "827c573f",
   "metadata": {},
   "outputs": [
    {
     "data": {
      "text/plain": [
       "(35875, 1)"
      ]
     },
     "execution_count": 41,
     "metadata": {},
     "output_type": "execute_result"
    }
   ],
   "source": [
    "aud_testdata.shape"
   ]
  },
  {
   "cell_type": "code",
   "execution_count": 58,
   "id": "7c7aac99",
   "metadata": {},
   "outputs": [
    {
     "data": {
      "image/png": "[encoded data removed]",
      "text/plain": [
       "<Figure size 1440x720 with 1 Axes>"
      ]
     },
     "metadata": {
      "needs_background": "light"
     },
     "output_type": "display_data"
    }
   ],
   "source": [
    "plt.figure(figsize=(20,10))\n",
    "plt.plot(aud_testdata[5000:5300], color = 'green', label = 'AUDUSD')\n",
    "plt.plot(aud_predict[5000:5300, 5:6], color = 'red', label = 'Predicted AUDUSD')\n",
    "plt.title('AUDUSD Prediction')\n",
    "plt.xlabel('Trading Period 1 minute')\n",
    "plt.ylabel('AUDUSD')\n",
    "plt.legend()\n",
    "plt.show()"
   ]
  },
  {
   "cell_type": "code",
   "execution_count": 68,
   "id": "e9036dbc",
   "metadata": {},
   "outputs": [
    {
     "name": "stdout",
     "output_type": "stream",
     "text": [
      "Saved model to disk\n"
     ]
    }
   ],
   "source": [
    "import os\n",
    "# serialize model to JSON\n",
    "model_json = regressor.to_json()\n",
    "with open(\"audfwdsteplstm.json\", \"w\") as json_file:\n",
    "    json_file.write(model_json)\n",
    "# serialize weights to HDF5\n",
    "regressor.save_weights(\"audfwdsteplstm.h5\")\n",
    "print(\"Saved model to disk\")"
   ]
  },
  {
   "cell_type": "code",
   "execution_count": 66,
   "id": "618482aa",
   "metadata": {},
   "outputs": [],
   "source": []
  },
  {
   "cell_type": "code",
   "execution_count": null,
   "id": "c0127267",
   "metadata": {},
   "outputs": [],
   "source": []
  }
 ],
 "metadata": {
  "kernelspec": {
   "display_name": "Python 3",
   "language": "python",
   "name": "python3"
  },
  "language_info": {
   "codemirror_mode": {
    "name": "ipython",
    "version": 3
   },
   "file_extension": ".py",
   "mimetype": "text/x-python",
   "name": "python",
   "nbconvert_exporter": "python",
   "pygments_lexer": "ipython3",
   "version": "3.7.10"
  }
 },
 "nbformat": 4,
 "nbformat_minor": 5
}
