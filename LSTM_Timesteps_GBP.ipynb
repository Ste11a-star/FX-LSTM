{
 "cells": [
  {
   "cell_type": "markdown",
   "id": "eea209a3",
   "metadata": {},
   "source": [
    "## Forward Step LSTM Model\n",
    "\n",
    "This model attempts to take the trainng data and segment a moving set of 60 readings to predict the i+60th reading for i in a defined range. \n",
    "\n",
    "A special data structure is needed to cover 60-time stamps, based on which LSTM will predict the 61st price.  Thus, X_train is a nested list, which contains lists of 60 time-stamp prices. y_train is a list of stock prices which is the next period price, corresponding to each list in X_train. \n",
    "\n",
    "In the first run, we use LSTM with 3 layers (12, 12, 24 units) and a learning rate of 1e-05. The time taken to run is considerably long as X_train is a list of 60 time stamps. So I decided to start with minimal layers first. "
   ]
  },
  {
   "cell_type": "code",
   "execution_count": 1,
   "id": "8a8b00fc",
   "metadata": {},
   "outputs": [],
   "source": [
    "import importlib\n",
    "import datetime as dt\n",
    "import numpy as np\n",
    "import pandas as pd\n",
    "from fxcmpy import fxcmpy_tick_data_reader as tdr\n",
    "import matplotlib.pyplot as plt\n",
    "%matplotlib inline\n",
    "import seaborn as sns\n",
    "import talib as ta\n",
    "from talib import RSI, BBANDS\n",
    "import sklearn\n",
    "from sklearn import preprocessing\n",
    "from sklearn.preprocessing import StandardScaler\n",
    "from sklearn.preprocessing import MinMaxScaler"
   ]
  },
  {
   "cell_type": "code",
   "execution_count": 2,
   "id": "13deb93b",
   "metadata": {},
   "outputs": [],
   "source": [
    "import tensorflow as tf\n",
    "from tensorflow import keras\n",
    "from tensorflow.keras import layers\n",
    "from keras.optimizers import Adam\n",
    "from keras.models import Sequential\n",
    "from keras.layers import LSTM\n",
    "from keras.layers import Dropout\n",
    "from keras.layers import Dense\n",
    "from keras.optimizers import Adam"
   ]
  },
  {
   "cell_type": "code",
   "execution_count": 3,
   "id": "1a515d39",
   "metadata": {},
   "outputs": [],
   "source": [
    "gbp = pd.read_csv(f'C:/Users/STELLA/Desktop/Data Science/DS106/GBPUSD_1min.csv')"
   ]
  },
  {
   "cell_type": "code",
   "execution_count": 4,
   "id": "87e91cbc",
   "metadata": {},
   "outputs": [],
   "source": [
    "del gbp['DateTime']\n",
    "gbp['Open'] = (gbp['BidOpen'] + gbp['AskOpen'])/2\n",
    "gbp['Close'] = (gbp['BidClose'] + gbp['AskClose'])/2\n",
    "gbp['High'] = (gbp['BidHigh'] + gbp['AskHigh'])/2\n",
    "gbp['Low'] = (gbp['BidLow'] + gbp['AskLow'])/2\n"
   ]
  },
  {
   "cell_type": "code",
   "execution_count": 5,
   "id": "aa7b2d7a",
   "metadata": {},
   "outputs": [],
   "source": [
    "gbp = gbp.drop({'Unnamed: 0','BidOpen','BidHigh','BidLow','BidClose','AskOpen','AskHigh','AskLow','AskClose'}, axis=1)"
   ]
  },
  {
   "cell_type": "code",
   "execution_count": 6,
   "id": "fb983469",
   "metadata": {},
   "outputs": [
    {
     "data": {
      "text/html": [
       "<div>\n",
       "<style scoped>\n",
       "    .dataframe tbody tr th:only-of-type {\n",
       "        vertical-align: middle;\n",
       "    }\n",
       "\n",
       "    .dataframe tbody tr th {\n",
       "        vertical-align: top;\n",
       "    }\n",
       "\n",
       "    .dataframe thead th {\n",
       "        text-align: right;\n",
       "    }\n",
       "</style>\n",
       "<table border=\"1\" class=\"dataframe\">\n",
       "  <thead>\n",
       "    <tr style=\"text-align: right;\">\n",
       "      <th></th>\n",
       "      <th>Open</th>\n",
       "      <th>Close</th>\n",
       "      <th>High</th>\n",
       "      <th>Low</th>\n",
       "    </tr>\n",
       "  </thead>\n",
       "  <tbody>\n",
       "    <tr>\n",
       "      <th>0</th>\n",
       "      <td>1.308620</td>\n",
       "      <td>1.308640</td>\n",
       "      <td>1.308875</td>\n",
       "      <td>1.308275</td>\n",
       "    </tr>\n",
       "    <tr>\n",
       "      <th>1</th>\n",
       "      <td>1.308640</td>\n",
       "      <td>1.308600</td>\n",
       "      <td>1.308640</td>\n",
       "      <td>1.308600</td>\n",
       "    </tr>\n",
       "    <tr>\n",
       "      <th>2</th>\n",
       "      <td>1.308600</td>\n",
       "      <td>1.308050</td>\n",
       "      <td>1.308600</td>\n",
       "      <td>1.308050</td>\n",
       "    </tr>\n",
       "    <tr>\n",
       "      <th>3</th>\n",
       "      <td>1.308050</td>\n",
       "      <td>1.307910</td>\n",
       "      <td>1.308055</td>\n",
       "      <td>1.307900</td>\n",
       "    </tr>\n",
       "    <tr>\n",
       "      <th>4</th>\n",
       "      <td>1.307910</td>\n",
       "      <td>1.307920</td>\n",
       "      <td>1.308060</td>\n",
       "      <td>1.307845</td>\n",
       "    </tr>\n",
       "    <tr>\n",
       "      <th>...</th>\n",
       "      <td>...</td>\n",
       "      <td>...</td>\n",
       "      <td>...</td>\n",
       "      <td>...</td>\n",
       "    </tr>\n",
       "    <tr>\n",
       "      <th>355601</th>\n",
       "      <td>1.353405</td>\n",
       "      <td>1.353475</td>\n",
       "      <td>1.353575</td>\n",
       "      <td>1.353385</td>\n",
       "    </tr>\n",
       "    <tr>\n",
       "      <th>355602</th>\n",
       "      <td>1.353475</td>\n",
       "      <td>1.353470</td>\n",
       "      <td>1.353520</td>\n",
       "      <td>1.353415</td>\n",
       "    </tr>\n",
       "    <tr>\n",
       "      <th>355603</th>\n",
       "      <td>1.353470</td>\n",
       "      <td>1.353475</td>\n",
       "      <td>1.353540</td>\n",
       "      <td>1.353420</td>\n",
       "    </tr>\n",
       "    <tr>\n",
       "      <th>355604</th>\n",
       "      <td>1.353475</td>\n",
       "      <td>1.353400</td>\n",
       "      <td>1.353490</td>\n",
       "      <td>1.353370</td>\n",
       "    </tr>\n",
       "    <tr>\n",
       "      <th>355605</th>\n",
       "      <td>1.353400</td>\n",
       "      <td>1.353395</td>\n",
       "      <td>1.353430</td>\n",
       "      <td>1.353365</td>\n",
       "    </tr>\n",
       "  </tbody>\n",
       "</table>\n",
       "<p>355606 rows × 4 columns</p>\n",
       "</div>"
      ],
      "text/plain": [
       "            Open     Close      High       Low\n",
       "0       1.308620  1.308640  1.308875  1.308275\n",
       "1       1.308640  1.308600  1.308640  1.308600\n",
       "2       1.308600  1.308050  1.308600  1.308050\n",
       "3       1.308050  1.307910  1.308055  1.307900\n",
       "4       1.307910  1.307920  1.308060  1.307845\n",
       "...          ...       ...       ...       ...\n",
       "355601  1.353405  1.353475  1.353575  1.353385\n",
       "355602  1.353475  1.353470  1.353520  1.353415\n",
       "355603  1.353470  1.353475  1.353540  1.353420\n",
       "355604  1.353475  1.353400  1.353490  1.353370\n",
       "355605  1.353400  1.353395  1.353430  1.353365\n",
       "\n",
       "[355606 rows x 4 columns]"
      ]
     },
     "execution_count": 6,
     "metadata": {},
     "output_type": "execute_result"
    }
   ],
   "source": [
    "gbp"
   ]
  },
  {
   "cell_type": "code",
   "execution_count": 7,
   "id": "34c7d6f4",
   "metadata": {},
   "outputs": [],
   "source": [
    "# create X_train of a moving 60 timestamps and y_train\n",
    "\n",
    "train_set = gbp.iloc[:, 1:2].values\n",
    "sc = MinMaxScaler(feature_range = (0, 1))\n",
    "training_set_scaled = sc.fit_transform(train_set)\n",
    "X_train = []\n",
    "y_train = []\n",
    "for i in range(60, len(train_set)-1):\n",
    "    X_train.append(training_set_scaled[i-60:i, 0])\n",
    "    y_train.append(training_set_scaled[i, 0]) \n",
    "X_train, y_train = np.array(X_train), np.array(y_train)\n",
    "X_train = np.reshape(X_train, (X_train.shape[0], X_train.shape[1], 1))"
   ]
  },
  {
   "cell_type": "markdown",
   "id": "77e3a88e",
   "metadata": {},
   "source": [
    "### Fitting the LSTM Model"
   ]
  },
  {
   "cell_type": "code",
   "execution_count": 8,
   "id": "7f05d6a3",
   "metadata": {},
   "outputs": [],
   "source": [
    "regressor = Sequential()\n",
    "\n",
    "regressor.add(LSTM(units = 12, return_sequences = True, input_shape = (X_train.shape[1], 1)))\n",
    "regressor.add(Dropout(0.2))\n",
    "\n",
    "regressor.add(LSTM(units = 12, return_sequences = True))\n",
    "regressor.add(Dropout(0.2))\n",
    "\n",
    "regressor.add(LSTM(units = 24, return_sequences = True))\n",
    "regressor.add(Dropout(0.2))\n",
    "\n",
    "#Adding the output layer\n",
    "regressor.add(Dense(units = 1))"
   ]
  },
  {
   "cell_type": "code",
   "execution_count": 9,
   "id": "25978210",
   "metadata": {},
   "outputs": [
    {
     "name": "stdout",
     "output_type": "stream",
     "text": [
      "Epoch 1/20\n",
      "11111/11111 [==============================] - 528s 47ms/step - loss: 0.0618\n",
      "Epoch 2/20\n",
      "11111/11111 [==============================] - 682s 61ms/step - loss: 0.0092\n",
      "Epoch 3/20\n",
      "11111/11111 [==============================] - 782s 70ms/step - loss: 0.0044\n",
      "Epoch 4/20\n",
      "11111/11111 [==============================] - 675s 61ms/step - loss: 0.0028\n",
      "Epoch 5/20\n",
      "11111/11111 [==============================] - 703s 63ms/step - loss: 0.0020\n",
      "Epoch 6/20\n",
      "11111/11111 [==============================] - 728s 65ms/step - loss: 0.0015\n",
      "Epoch 7/20\n",
      "11111/11111 [==============================] - 843s 76ms/step - loss: 0.0011\n",
      "Epoch 8/20\n",
      "11111/11111 [==============================] - 907s 82ms/step - loss: 9.2589e-04\n",
      "Epoch 9/20\n",
      "11111/11111 [==============================] - 909s 82ms/step - loss: 8.0191e-04\n",
      "Epoch 10/20\n",
      "11111/11111 [==============================] - 998s 90ms/step - loss: 7.2261e-04\n",
      "Epoch 11/20\n",
      "11111/11111 [==============================] - 953s 86ms/step - loss: 6.7019e-04\n",
      "Epoch 12/20\n",
      "11111/11111 [==============================] - 799s 72ms/step - loss: 6.3232e-04\n",
      "Epoch 13/20\n",
      "11111/11111 [==============================] - 790s 71ms/step - loss: 6.0681e-04\n",
      "Epoch 14/20\n",
      "11111/11111 [==============================] - 954s 86ms/step - loss: 5.8835e-04\n",
      "Epoch 15/20\n",
      "11111/11111 [==============================] - 1072s 96ms/step - loss: 5.7632e-04\n",
      "Epoch 16/20\n",
      "11111/11111 [==============================] - 959s 86ms/step - loss: 5.6766e-04\n",
      "Epoch 17/20\n",
      "11111/11111 [==============================] - 984s 89ms/step - loss: 5.6061e-04\n",
      "Epoch 18/20\n",
      "11111/11111 [==============================] - 1068s 96ms/step - loss: 5.5495e-04\n",
      "Epoch 19/20\n",
      "11111/11111 [==============================] - 1085s 98ms/step - loss: 5.5122e-04s - loss: 5.5122e-0\n",
      "Epoch 20/20\n",
      "11111/11111 [==============================] - 1079s 97ms/step - loss: 5.4671e-04\n"
     ]
    },
    {
     "data": {
      "text/plain": [
       "<tensorflow.python.keras.callbacks.History at 0x1d0b5be62c8>"
      ]
     },
     "execution_count": 9,
     "metadata": {},
     "output_type": "execute_result"
    }
   ],
   "source": [
    "regressor.compile(optimizer = Adam(lr=1e-05), loss = 'mean_squared_error')\n",
    "regressor.fit(X_train, y_train, epochs = 20, batch_size = 32)"
   ]
  },
  {
   "cell_type": "markdown",
   "id": "c7f14408",
   "metadata": {},
   "source": [
    "### Testing the model on new data"
   ]
  },
  {
   "cell_type": "code",
   "execution_count": 19,
   "id": "292e21de",
   "metadata": {},
   "outputs": [
    {
     "name": "stdout",
     "output_type": "stream",
     "text": [
      "https://candledata.fxcorporate.com/m1/GBPUSD/2021/2.csv.gz\n",
      "https://candledata.fxcorporate.com/m1/GBPUSD/2021/3.csv.gz\n",
      "https://candledata.fxcorporate.com/m1/GBPUSD/2021/4.csv.gz\n",
      "https://candledata.fxcorporate.com/m1/GBPUSD/2021/5.csv.gz\n",
      "https://candledata.fxcorporate.com/m1/GBPUSD/2021/6.csv.gz\n",
      "                     DateTime  BidOpen  BidHigh   BidLow  BidClose  AskOpen  \\\n",
      "0     01/10/2021 22:18:00.000  1.35549  1.35633  1.35549   1.35612  1.35725   \n",
      "1     01/10/2021 22:19:00.000  1.35612  1.35636  1.35612   1.35636  1.35797   \n",
      "2     01/10/2021 22:20:00.000  1.35636  1.35637  1.35634   1.35637  1.35797   \n",
      "3     01/10/2021 22:21:00.000  1.35637  1.35667  1.35605   1.35667  1.35797   \n",
      "4     01/10/2021 22:22:00.000  1.35667  1.35667  1.35642   1.35667  1.35773   \n",
      "...                       ...      ...      ...      ...       ...      ...   \n",
      "7181  02/12/2021 21:55:00.000  1.38528  1.38532  1.38509   1.38523  1.38538   \n",
      "7182  02/12/2021 21:56:00.000  1.38523  1.38532  1.38504   1.38510  1.38533   \n",
      "7183  02/12/2021 21:57:00.000  1.38510  1.38516  1.38506   1.38516  1.38533   \n",
      "7184  02/12/2021 21:58:00.000  1.38516  1.38530  1.38516   1.38529  1.38546   \n",
      "7185  02/12/2021 21:59:00.000  1.38529  1.38530  1.38450   1.38450  1.38558   \n",
      "\n",
      "      AskHigh   AskLow  AskClose  \n",
      "0     1.35797  1.35725   1.35797  \n",
      "1     1.35797  1.35797   1.35797  \n",
      "2     1.35797  1.35797   1.35797  \n",
      "3     1.35797  1.35768   1.35773  \n",
      "4     1.35773  1.35771   1.35771  \n",
      "...       ...      ...       ...  \n",
      "7181  1.38539  1.38519   1.38533  \n",
      "7182  1.38547  1.38524   1.38533  \n",
      "7183  1.38546  1.38533   1.38546  \n",
      "7184  1.38561  1.38545   1.38558  \n",
      "7185  1.38633  1.38556   1.38633  \n",
      "\n",
      "[35825 rows x 9 columns]\n"
     ]
    }
   ],
   "source": [
    "url = 'https://candledata.fxcorporate.com/'##This is the base url\n",
    "periodicity='m1' ##periodicity, can be m1, H1, D1\n",
    "url_suffix = '.csv.gz' ##Extension of the file name\n",
    "symbol = 'GBPUSD' ##symbol we want to get tick data for\n",
    "##Available Currencies \n",
    "##AUDCAD,AUDCHF,AUDJPY, AUDNZD,CADCHF,EURAUD,EURCHF,EURGBP\n",
    "##EURJPY,EURUSD,GBPCHF,GBPJPY,GBPNZD,GBPUSD,GBPCHF,GBPJPY\n",
    "##GBPNZD,NZDCAD,NZDCHF.NZDJPY,NZDUSD,USDCAD,USDCHF,USDJPY\n",
    "\n",
    "\n",
    "##The candle files are stored in compressed csv.  The storage structure comes as {periodicity}/{symbol}/{year}/{week_of_year}.csv.gz\n",
    "##The first week of the year will be 1.csv.gz where the \n",
    "##last week might be 52 or 53.  That will depend on the year.\n",
    "##Once we have the week of the year we will be able to pull the correct file with the data that is needed.\n",
    "start_dt =  dt.date(2021,1,15)##random start date\n",
    "end_dt = dt.date(2021,2,15)##random end date\n",
    "\n",
    "\n",
    "start_wk = start_dt.isocalendar()[1]##find the week of the year for the start  \n",
    "end_wk = end_dt.isocalendar()[1] ##find the week of the year for the end \n",
    "year = str(start_dt.isocalendar()[0]) ##pull out the year of the start\n",
    "\n",
    "###The URL is a combination of the currency, periodicity,  year, and week of the year.\n",
    "###Example URL https://candledata.fxcorporate.com/m1/EURUSD/2017/29.csv.gz\n",
    "###The example URL should be the first URL of this example\n",
    "data=pd.DataFrame()\n",
    "##This will loop through the weeks needed, create the correct URL and print out the lenght of the file.\n",
    "for i in range(start_wk, end_wk ):\n",
    "    url_data = url + periodicity + '/' + symbol + '/' + year + '/' + str(i) + url_suffix\n",
    "    print(url_data)\n",
    "    tempdata = pd.read_csv(url_data, compression='gzip')\n",
    "    data =pd.concat([data, tempdata])\n",
    "\n",
    "print(data)\n"
   ]
  },
  {
   "cell_type": "code",
   "execution_count": 20,
   "id": "3c4e95a6",
   "metadata": {},
   "outputs": [],
   "source": [
    "gbp_test = data\n",
    "gbp_test.to_csv(f'C:/Users/STELLA/Desktop/Data Science/DS106/GBPUSD_test.csv')"
   ]
  },
  {
   "cell_type": "code",
   "execution_count": 21,
   "id": "47c35cdd",
   "metadata": {},
   "outputs": [],
   "source": [
    "del gbp_test['DateTime']\n",
    "gbp_test['Open'] = (gbp_test['BidOpen'] + gbp_test['AskOpen'])/2\n",
    "gbp_test['Close'] = (gbp_test['BidClose'] + gbp_test['AskClose'])/2\n",
    "gbp_test['High'] = (gbp_test['BidHigh'] + gbp_test['AskHigh'])/2\n",
    "gbp_test['Low'] = (gbp_test['BidLow'] + gbp_test['AskLow'])/2"
   ]
  },
  {
   "cell_type": "code",
   "execution_count": 84,
   "id": "5aba02ee",
   "metadata": {},
   "outputs": [],
   "source": [
    "gbp_testdata = gbp_test.iloc[:, 1:2].values\n",
    "dataset_total = pd.concat((gbp['Open'], gbp_test['Open']), axis = 0)\n",
    "inputs = dataset_total[len(dataset_total) - len(gbp_test) - 60:].values\n"
   ]
  },
  {
   "cell_type": "code",
   "execution_count": 85,
   "id": "79e2fd96",
   "metadata": {},
   "outputs": [
    {
     "data": {
      "text/plain": [
       "array([1.353815, 1.35376 , 1.353775, ..., 1.385215, 1.38531 , 1.385435])"
      ]
     },
     "execution_count": 85,
     "metadata": {},
     "output_type": "execute_result"
    }
   ],
   "source": [
    "inputs"
   ]
  },
  {
   "cell_type": "code",
   "execution_count": 86,
   "id": "e3a42647",
   "metadata": {},
   "outputs": [],
   "source": [
    "inputs = inputs.reshape(-1,1)\n",
    "inputs = sc.transform(inputs)\n",
    "X_test = []\n",
    "for i in range(60, len(gbp_testdata)-1):\n",
    "    X_test.append(inputs[i-60:i, 0])\n",
    "X_test = np.array(X_test)\n",
    "X_test = np.reshape(X_test, (X_test.shape[0], X_test.shape[1], 1))"
   ]
  },
  {
   "cell_type": "code",
   "execution_count": 87,
   "id": "8daf739b",
   "metadata": {},
   "outputs": [],
   "source": [
    "predicted_price= regressor.predict(X_test)\n"
   ]
  },
  {
   "cell_type": "code",
   "execution_count": 88,
   "id": "2099c9bb",
   "metadata": {},
   "outputs": [
    {
     "data": {
      "text/plain": [
       "(35764, 60)"
      ]
     },
     "execution_count": 88,
     "metadata": {},
     "output_type": "execute_result"
    }
   ],
   "source": [
    "x = predicted_price.reshape(predicted_price.shape[0], 60)\n",
    "x.shape"
   ]
  },
  {
   "cell_type": "code",
   "execution_count": 89,
   "id": "617d0db0",
   "metadata": {},
   "outputs": [
    {
     "data": {
      "text/plain": [
       "array([[1.3481477, 1.3502307, 1.3506875, ..., 1.3519849, 1.3519884,\n",
       "        1.3519303],\n",
       "       [1.3480982, 1.3502446, 1.3507067, ..., 1.3519875, 1.3519293,\n",
       "        1.3542703],\n",
       "       [1.3481117, 1.3502628, 1.3506821, ..., 1.3519282, 1.3542694,\n",
       "        1.3551383],\n",
       "       ...,\n",
       "       [1.375106 , 1.3775352, 1.3787373, ..., 1.3827307, 1.3827447,\n",
       "        1.3827364],\n",
       "       [1.3751142, 1.3776908, 1.3785458, ..., 1.3827415, 1.3827335,\n",
       "        1.3827418],\n",
       "       [1.3752542, 1.3774701, 1.3785102, ..., 1.3827299, 1.3827385,\n",
       "        1.382677 ]], dtype=float32)"
      ]
     },
     "execution_count": 89,
     "metadata": {},
     "output_type": "execute_result"
    }
   ],
   "source": [
    "\n",
    "b = sc.inverse_transform(x)\n",
    "b"
   ]
  },
  {
   "cell_type": "code",
   "execution_count": 90,
   "id": "6da5ba44",
   "metadata": {},
   "outputs": [
    {
     "data": {
      "text/plain": [
       "(35825, 1)"
      ]
     },
     "execution_count": 90,
     "metadata": {},
     "output_type": "execute_result"
    }
   ],
   "source": [
    "gbp_testdata.shape"
   ]
  },
  {
   "cell_type": "markdown",
   "id": "493f951f",
   "metadata": {},
   "source": [
    "### Plotting the Predictions vs Real Values"
   ]
  },
  {
   "cell_type": "code",
   "execution_count": 91,
   "id": "92e17f94",
   "metadata": {},
   "outputs": [
    {
     "data": {
      "image/png": "[encoded data removed]",
      "text/plain": [
       "<Figure size 1440x720 with 1 Axes>"
      ]
     },
     "metadata": {
      "needs_background": "light"
     },
     "output_type": "display_data"
    }
   ],
   "source": [
    "plt.figure(figsize=(20,10))\n",
    "plt.plot(gbp_testdata[5000:5300], color = 'green', label = 'GBPUSD')\n",
    "plt.plot(b[5000:5300, 33:34], color = 'red', label = 'Predicted GBPUSD')\n",
    "plt.title('GBPUSD Prediction')\n",
    "plt.xlabel('Trading Period 1 minute')\n",
    "plt.ylabel('GBPUSD')\n",
    "plt.legend()\n",
    "plt.show()"
   ]
  },
  {
   "cell_type": "markdown",
   "id": "560ba9e6",
   "metadata": {},
   "source": [
    "### MOST DECENT RESULTS I HAD ALL WEEK!!\n",
    "\n",
    "Looks like using a number of values of X to predict y is the best approach so far - perhaps a reflection of the law of large numbers coming into play here."
   ]
  },
  {
   "cell_type": "code",
   "execution_count": 94,
   "id": "f8088134",
   "metadata": {},
   "outputs": [
    {
     "name": "stdout",
     "output_type": "stream",
     "text": [
      "Saved model to disk\n"
     ]
    }
   ],
   "source": [
    "#Saving model -  serialize model to JSON\n",
    "model_json = regressor.to_json()\n",
    "with open(\"gbp_fwdsteplstm_24layer.json\", \"w\") as json_file:\n",
    "    json_file.write(model_json)\n",
    "# serialize weights to HDF5\n",
    "regressor.save_weights(\"gbp_fwdsteplstm_24layer.h5\")\n",
    "print(\"Saved model to disk\")"
   ]
  },
  {
   "cell_type": "code",
   "execution_count": null,
   "id": "6c8af398",
   "metadata": {},
   "outputs": [],
   "source": []
  }
 ],
 "metadata": {
  "kernelspec": {
   "display_name": "Python 3",
   "language": "python",
   "name": "python3"
  },
  "language_info": {
   "codemirror_mode": {
    "name": "ipython",
    "version": 3
   },
   "file_extension": ".py",
   "mimetype": "text/x-python",
   "name": "python",
   "nbconvert_exporter": "python",
   "pygments_lexer": "ipython3",
   "version": "3.7.10"
  }
 },
 "nbformat": 4,
 "nbformat_minor": 5
}
